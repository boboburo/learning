{
 "cells": [
  {
   "cell_type": "markdown",
   "id": "14c6e289-0310-4b12-a617-dc20abafb6f6",
   "metadata": {},
   "source": [
    "https://realpython.com/instance-class-and-static-methods-demystified/\n",
    "\n",
    "@staticmethod"
   ]
  },
  {
   "cell_type": "markdown",
   "id": "5aa5a244-2cbd-4957-b2e9-f934da5fdd20",
   "metadata": {},
   "source": [
    "@abstractmethod"
   ]
  },
  {
   "cell_type": "code",
   "execution_count": 3,
   "id": "eb682fc3-c06f-455e-aad7-674788976dfe",
   "metadata": {},
   "outputs": [],
   "source": [
    "class Item(object): #only need this in python2\n",
    "    \n",
    "    rock = False\n",
    "    paper = True\n",
    "    scissor = False\n",
    "    \n",
    "    def __init__(self, number):\n",
    "        self.number = number\n",
    "        \n",
    "    #does not take either, \n",
    "    @staticmethod\n",
    "    def static_method():\n",
    "        print(f\"This is a static method\")\n",
    "     \n",
    "    #has access to the cls argument and can modify the class stats across all classes\n",
    "    @classmethod\n",
    "    def class_method(cls):\n",
    "        print(f\"THis is a classss method that belongs to {cls} and the value of paper is {cls.paper}\")"
   ]
  },
  {
   "cell_type": "code",
   "execution_count": 4,
   "id": "7501c241-04ad-4157-a443-ca855219a227",
   "metadata": {},
   "outputs": [
    {
     "name": "stdout",
     "output_type": "stream",
     "text": [
      "This is a static method\n",
      "THis is a classss method that belongs to <class '__main__.Item'> and the value of paper isTrue\n",
      "This is a static method\n",
      "THis is a classss method that belongs to <class '__main__.Item'> and the value of paper isTrue\n"
     ]
    }
   ],
   "source": [
    "i = Item(8)\n",
    "i.static_method()\n",
    "i.class_method()\n",
    "Item.static_method()\n",
    "Item.class_method()"
   ]
  },
  {
   "cell_type": "code",
   "execution_count": null,
   "id": "a90ba715-403d-4877-aeb9-5c95b2712eaf",
   "metadata": {},
   "outputs": [],
   "source": []
  }
 ],
 "metadata": {
  "kernelspec": {
   "display_name": "Python 3",
   "language": "python",
   "name": "python3"
  },
  "language_info": {
   "codemirror_mode": {
    "name": "ipython",
    "version": 3
   },
   "file_extension": ".py",
   "mimetype": "text/x-python",
   "name": "python",
   "nbconvert_exporter": "python",
   "pygments_lexer": "ipython3",
   "version": "3.9.5"
  }
 },
 "nbformat": 4,
 "nbformat_minor": 5
}
