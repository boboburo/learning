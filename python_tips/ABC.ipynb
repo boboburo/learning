{
 "cells": [
  {
   "cell_type": "markdown",
   "id": "c46c0f10-f1f2-4341-8765-9dc02e4982a3",
   "metadata": {},
   "source": [
    "# Abstract Base Classes"
   ]
  },
  {
   "cell_type": "markdown",
   "id": "e7512263-01c5-4606-b80f-a48c8ee3f3d1",
   "metadata": {},
   "source": [
    "- Abstract base class exist to be inheriated, but never instantiated.\n",
    "- Python provides the abc module to define abstract base class\n",
    "- thus you can modify the Employee Class to ensure it can'tb be instantiated\n",
    "\n",
    "\n",
    "https://realpython.com/inheritance-composition-python/"
   ]
  },
  {
   "cell_type": "code",
   "execution_count": 1,
   "id": "3c7f60b8-1628-4083-a82c-0fe2adb15791",
   "metadata": {},
   "outputs": [],
   "source": [
    "class Employee:\n",
    "    def __init__(self, id, name):\n",
    "        self.id = id\n",
    "        self.name = name"
   ]
  },
  {
   "cell_type": "code",
   "execution_count": 2,
   "id": "9d951244-abd2-463d-a000-ee6c145d4497",
   "metadata": {},
   "outputs": [],
   "source": [
    "# In hr.py\n",
    "\n",
    "from abc import ABC, abstractmethod\n",
    "\n",
    "class Employee(ABC):\n",
    "    def __init__(self, id, name):\n",
    "        self.id = id\n",
    "        self.name = name\n",
    "\n",
    "    @abstractmethod\n",
    "    def calculate_payroll(self):\n",
    "        pass"
   ]
  },
  {
   "cell_type": "markdown",
   "id": "dfa2502b-6d55-4e3a-9846-339ff3d9fcfe",
   "metadata": {},
   "source": [
    "- tell users that objects of type Employee can't be created \n",
    "- if you derive from Employee you must overirde the calculate_payrool() abstract method"
   ]
  },
  {
   "cell_type": "code",
   "execution_count": 3,
   "id": "f646bf52-11ee-42dc-a320-40dcad7a60bc",
   "metadata": {},
   "outputs": [
    {
     "ename": "TypeError",
     "evalue": "Can't instantiate abstract class Employee with abstract method calculate_payroll",
     "output_type": "error",
     "traceback": [
      "\u001b[0;31m---------------------------------------------------------------------------\u001b[0m",
      "\u001b[0;31mTypeError\u001b[0m                                 Traceback (most recent call last)",
      "\u001b[0;32m<ipython-input-3-e89c82156874>\u001b[0m in \u001b[0;36m<module>\u001b[0;34m\u001b[0m\n\u001b[0;32m----> 1\u001b[0;31m \u001b[0mx\u001b[0m \u001b[0;34m=\u001b[0m \u001b[0mEmployee\u001b[0m\u001b[0;34m(\u001b[0m\u001b[0;34m)\u001b[0m\u001b[0;34m\u001b[0m\u001b[0;34m\u001b[0m\u001b[0m\n\u001b[0m",
      "\u001b[0;31mTypeError\u001b[0m: Can't instantiate abstract class Employee with abstract method calculate_payroll"
     ]
    }
   ],
   "source": [
    "x = Employee()"
   ]
  },
  {
   "cell_type": "code",
   "execution_count": null,
   "id": "d6bc6cb2-926f-4bb2-8dae-bf2cdea90785",
   "metadata": {},
   "outputs": [],
   "source": []
  }
 ],
 "metadata": {
  "kernelspec": {
   "display_name": "Python 3",
   "language": "python",
   "name": "python3"
  },
  "language_info": {
   "codemirror_mode": {
    "name": "ipython",
    "version": 3
   },
   "file_extension": ".py",
   "mimetype": "text/x-python",
   "name": "python",
   "nbconvert_exporter": "python",
   "pygments_lexer": "ipython3",
   "version": "3.9.5"
  }
 },
 "nbformat": 4,
 "nbformat_minor": 5
}
