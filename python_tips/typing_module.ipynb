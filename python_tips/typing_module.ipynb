{
 "cells": [
  {
   "cell_type": "code",
   "execution_count": 1,
   "id": "312a5944-6049-4330-bee9-0aa9037f5a7b",
   "metadata": {},
   "outputs": [],
   "source": [
    "from typing import Sequence, Optional, Mapping, Any, Union, Iterator, Dict"
   ]
  },
  {
   "cell_type": "markdown",
   "id": "ecd5ed60-c654-48de-ba1c-09b3a85ee578",
   "metadata": {},
   "source": [
    "https://mypy.readthedocs.io/en/stable/cheat_sheet_py3.html"
   ]
  },
  {
   "cell_type": "code",
   "execution_count": 2,
   "id": "9d5d719d-7c6e-48f3-a8f3-d46e56f49e0f",
   "metadata": {},
   "outputs": [],
   "source": [
    "age : int = 1"
   ]
  },
  {
   "cell_type": "markdown",
   "id": "1aa94352-177e-42f2-9a46-dd6f2ce7c414",
   "metadata": {},
   "source": [
    "# Built In Types"
   ]
  },
  {
   "cell_type": "code",
   "execution_count": 3,
   "id": "760cd818-e861-4543-a9fa-ebd1c6bdbb8f",
   "metadata": {},
   "outputs": [],
   "source": [
    "from typing import List, Set, Dict, Tuple, Optional"
   ]
  },
  {
   "cell_type": "code",
   "execution_count": 5,
   "id": "7aea42b5-e5ae-43c1-a38c-6b8b920ad00c",
   "metadata": {},
   "outputs": [],
   "source": [
    "x: int = 1\n",
    "x: float = 1.0\n",
    "x: bool = True\n",
    "x: str = \"test\"\n",
    "x: bytes = b\"test\""
   ]
  },
  {
   "cell_type": "markdown",
   "id": "ee9a0425-546a-413a-9feb-fa429c21fd28",
   "metadata": {},
   "source": [
    "For Python 3.9+ list and set can be used as built in types. Before that, they must be imported"
   ]
  },
  {
   "cell_type": "code",
   "execution_count": 6,
   "id": "af9ab90b-b5a1-4e92-9826-9561bdb48983",
   "metadata": {},
   "outputs": [],
   "source": [
    "x: list[int] = [1]\n",
    "x: set[int] = {6,7}"
   ]
  },
  {
   "cell_type": "code",
   "execution_count": 8,
   "id": "397abb82-f2ce-48e6-b3d6-48de2008d21b",
   "metadata": {},
   "outputs": [],
   "source": [
    "x : List[int] = [1]\n",
    "x: Set[int]  = {3,4,5}"
   ]
  },
  {
   "cell_type": "code",
   "execution_count": 14,
   "id": "c3259375-bda4-41a3-aa3d-7e810d9ccf4a",
   "metadata": {},
   "outputs": [],
   "source": [
    "#for mappings/dictionarys neeed types for keys and values \n",
    "x: dict[str, float] = {'field1': 2.0}\n",
    "x: Dict[str, float] = {'filed1': 2.0}\n",
    "# for tuples of dixed size, specify the types of all elements\n",
    "x: tuple[int, str, float] = (3,'yes','7.5')\n",
    "x: Tuple[int, str, float] = (3,'yes','5.5')\n",
    "# For tuples of variable size, use one type and ellipsis\n",
    "x: tuple[int, ...] = (1,2,3)"
   ]
  },
  {
   "cell_type": "code",
   "execution_count": 15,
   "id": "854ae2a4-6f02-4a42-90d0-a5e3ee1070ae",
   "metadata": {},
   "outputs": [
    {
     "ename": "NameError",
     "evalue": "name 'some_function' is not defined",
     "output_type": "error",
     "traceback": [
      "\u001b[0;31m---------------------------------------------------------------------------\u001b[0m",
      "\u001b[0;31mNameError\u001b[0m                                 Traceback (most recent call last)",
      "\u001b[0;32m<ipython-input-15-800d2b0752de>\u001b[0m in \u001b[0;36m<module>\u001b[0;34m\u001b[0m\n\u001b[1;32m      1\u001b[0m \u001b[0;31m#Use Optional[] for values that could be none\u001b[0m\u001b[0;34m\u001b[0m\u001b[0;34m\u001b[0m\u001b[0;34m\u001b[0m\u001b[0m\n\u001b[0;32m----> 2\u001b[0;31m \u001b[0mx\u001b[0m\u001b[0;34m:\u001b[0m \u001b[0mOptional\u001b[0m\u001b[0;34m[\u001b[0m\u001b[0mstr\u001b[0m\u001b[0;34m]\u001b[0m \u001b[0;34m=\u001b[0m \u001b[0msome_function\u001b[0m\u001b[0;34m(\u001b[0m\u001b[0;34m)\u001b[0m\u001b[0;34m\u001b[0m\u001b[0;34m\u001b[0m\u001b[0m\n\u001b[0m",
      "\u001b[0;31mNameError\u001b[0m: name 'some_function' is not defined"
     ]
    }
   ],
   "source": [
    "#Use Optional[] for values that could be none\n",
    "x: Optional[str] = some_function()"
   ]
  },
  {
   "cell_type": "markdown",
   "id": "851ee177-7653-40ea-8031-516cd51c07aa",
   "metadata": {},
   "source": [
    "# Functions\n",
    "\n",
    "Python 3 supports an annotation syntax for function declarations."
   ]
  },
  {
   "cell_type": "code",
   "execution_count": 17,
   "id": "d3c5cb3c-e5af-431b-8b04-4df54b0f465e",
   "metadata": {},
   "outputs": [],
   "source": [
    "from typing import Callable, Iterator, Union, Optional, List"
   ]
  },
  {
   "cell_type": "code",
   "execution_count": null,
   "id": "1fe07090-2731-4973-880d-b77665bdcf10",
   "metadata": {},
   "outputs": [],
   "source": [
    "#annotate a function\n",
    "def stringify(num: int) -> str:\n",
    "    return str(num)\n",
    "\n",
    "def plus(num1: int, num2: int) -> int:\n",
    "    return num1 + num2"
   ]
  },
  {
   "cell_type": "code",
   "execution_count": 18,
   "id": "7d10a97f-8e7b-47d3-8bac-c2c7e323ee00",
   "metadata": {},
   "outputs": [],
   "source": [
    "#default argument\n",
    "def f(num1: int, my_float: float = 3.5) -> float:\n",
    "    return num1+ my_float"
   ]
  },
  {
   "cell_type": "code",
   "execution_count": 19,
   "id": "eb2e93ef-add7-44e6-b5c2-ddcdd2290476",
   "metadata": {},
   "outputs": [],
   "source": [
    "#Annotate a callable\n",
    "x: Callable[[int, float], float] = f"
   ]
  },
  {
   "cell_type": "code",
   "execution_count": 21,
   "id": "a7886cda-d9ef-42e0-9773-07af365be4ae",
   "metadata": {},
   "outputs": [
    {
     "data": {
      "text/plain": [
       "7.5"
      ]
     },
     "execution_count": 21,
     "metadata": {},
     "output_type": "execute_result"
    }
   ],
   "source": [
    "x(3,4.5)"
   ]
  },
  {
   "cell_type": "code",
   "execution_count": 23,
   "id": "a7f7ec29-4ed0-43c5-abc3-318af0d0159a",
   "metadata": {},
   "outputs": [],
   "source": [
    "#A generator function that yields ints is just a funciton that returns \n",
    "#an iterator of ints, so that is how to annoated\n",
    "def g(n: int) -> Iterator[int]:\n",
    "    i = 0 \n",
    "    while i < n:\n",
    "        yield i\n",
    "        i += 1"
   ]
  },
  {
   "cell_type": "code",
   "execution_count": 25,
   "id": "2ebca87a-576e-47d9-84ef-9556bf411c3e",
   "metadata": {},
   "outputs": [],
   "source": [
    "a = g(10)"
   ]
  },
  {
   "cell_type": "code",
   "execution_count": 30,
   "id": "a8e29cee-9dee-43a5-a45e-104785e1e40f",
   "metadata": {},
   "outputs": [
    {
     "name": "stdout",
     "output_type": "stream",
     "text": [
      "0\n",
      "1\n",
      "2\n",
      "3\n",
      "4\n",
      "5\n",
      "6\n",
      "7\n",
      "8\n",
      "9\n"
     ]
    }
   ],
   "source": [
    "for item in a:\n",
    "    print(item)"
   ]
  },
  {
   "cell_type": "markdown",
   "id": "c3c1788e-0266-48b9-bdda-61ae9467b171",
   "metadata": {},
   "source": [
    "# Union\n",
    "When someghin coule be one of a few types"
   ]
  },
  {
   "cell_type": "code",
   "execution_count": 33,
   "id": "5d4c6ea2-2c63-4fbc-a491-fea1374a1314",
   "metadata": {},
   "outputs": [
    {
     "data": {
      "text/plain": [
       "[3, 5, 'd', 'a']"
      ]
     },
     "execution_count": 33,
     "metadata": {},
     "output_type": "execute_result"
    }
   ],
   "source": [
    "x : List[Union[int, str]] = [3,5,'d','a']\n",
    "x"
   ]
  },
  {
   "cell_type": "markdown",
   "id": "9e274150-c243-425f-b6d0-9ee5848e6452",
   "metadata": {},
   "source": [
    "# Any\n",
    "when you don't know the type or is dynamic"
   ]
  },
  {
   "cell_type": "code",
   "execution_count": 35,
   "id": "2590b039-b020-4027-bab9-1c0c502754a9",
   "metadata": {},
   "outputs": [],
   "source": [
    "# If you initialize a variable with an empty container or \"None\"\n",
    "# you may have to help mypy a bit by providing a type annotation\n",
    "x: List[str] = []\n",
    "x: Optional[str] = None"
   ]
  },
  {
   "cell_type": "markdown",
   "id": "d5f16cc7-0f39-412a-b2e2-64ad978742a3",
   "metadata": {},
   "source": [
    "# Standard “duck types”\n",
    "\n",
    "In typical Python code, many functions that can take a list or a dict as an argument only need their argument to be somehow “list-like” or “dict-like”. A specific meaning of “list-like” or “dict-like” (or something-else-like) is called a “duck type”, and several duck types that are common in idiomatic Python are standardized."
   ]
  },
  {
   "cell_type": "code",
   "execution_count": 37,
   "id": "41093ea6-24fb-45e7-8ea8-8806611eb87e",
   "metadata": {},
   "outputs": [
    {
     "data": {
      "text/plain": [
       "['1', '2']"
      ]
     },
     "execution_count": 37,
     "metadata": {},
     "output_type": "execute_result"
    }
   ],
   "source": [
    "from typing import Mapping, MutableMapping, Sequence, Iterable, List, Set\n",
    "\n",
    "# Use Iterable for generic iterables (anything usable in \"for\"),\n",
    "# and Sequence where a sequence (supporting \"len\" and \"__getitem__\") is\n",
    "# required\n",
    "def f(ints: Iterable[int]) -> List[str]:\n",
    "    return [str(x) for x in ints]\n",
    "\n",
    "f(range(1, 3))"
   ]
  },
  {
   "cell_type": "code",
   "execution_count": 41,
   "id": "b4cfe518-02e3-4263-b65e-02252967746d",
   "metadata": {},
   "outputs": [
    {
     "data": {
      "text/plain": [
       "['yes', 'no', 'maybe']"
      ]
     },
     "execution_count": 41,
     "metadata": {},
     "output_type": "execute_result"
    }
   ],
   "source": [
    "# Mapping describes a dict-like object (with \"__getitem__\") that we won't\n",
    "# mutate, and MutableMapping one (with \"__setitem__\") that we might\n",
    "def f(my_mapping: Mapping[int, str]) -> List[int]:\n",
    "    my_mapping[5] = 'maybe'  # if we try this, mypy will throw an error...\n",
    "    return list(my_mapping.values())\n",
    "\n",
    "f({3: 'yes', 4: 'no'})"
   ]
  },
  {
   "cell_type": "code",
   "execution_count": 40,
   "id": "344a7d1f-17f1-449a-b619-fd9508ce371f",
   "metadata": {},
   "outputs": [
    {
     "data": {
      "text/plain": [
       "{'maybe', 'no', 'yes'}"
      ]
     },
     "execution_count": 40,
     "metadata": {},
     "output_type": "execute_result"
    }
   ],
   "source": [
    "def f(my_mapping: MutableMapping[int, str]) -> Set[str]:\n",
    "    my_mapping[5] = 'maybe'  # ...but mypy is OK with this.\n",
    "    return set(my_mapping.values())\n",
    "\n",
    "f({3: 'yes', 4: 'no'})"
   ]
  },
  {
   "cell_type": "code",
   "execution_count": null,
   "id": "ee3ec222-6b15-4e6e-84a8-85a5bff5f3c6",
   "metadata": {},
   "outputs": [],
   "source": []
  },
  {
   "cell_type": "code",
   "execution_count": null,
   "id": "de0d6461-dbf8-4c2d-adda-facbfbb3e3d5",
   "metadata": {},
   "outputs": [],
   "source": []
  }
 ],
 "metadata": {
  "kernelspec": {
   "display_name": "Python 3",
   "language": "python",
   "name": "python3"
  },
  "language_info": {
   "codemirror_mode": {
    "name": "ipython",
    "version": 3
   },
   "file_extension": ".py",
   "mimetype": "text/x-python",
   "name": "python",
   "nbconvert_exporter": "python",
   "pygments_lexer": "ipython3",
   "version": "3.9.5"
  }
 },
 "nbformat": 4,
 "nbformat_minor": 5
}
