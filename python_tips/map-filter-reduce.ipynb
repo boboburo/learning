{
 "cells": [
  {
   "cell_type": "code",
   "execution_count": null,
   "id": "d73f67cb-be6e-48b0-ac75-895cb6ddecb6",
   "metadata": {},
   "outputs": [],
   "source": [
    "#https://stackabuse.com/map-filter-and-reduce-in-python-with-examples"
   ]
  },
  {
   "cell_type": "markdown",
   "id": "f7813b73-0a84-48d0-b114-f58f8d286be0",
   "metadata": {},
   "source": [
    "map syntax:\n",
    "- map(function, iterable) \n",
    "filter syntax:\n"
   ]
  },
  {
   "cell_type": "code",
   "execution_count": 1,
   "id": "a4b0c7c2-ae74-40b7-96fc-1f0177265160",
   "metadata": {},
   "outputs": [
    {
     "name": "stdout",
     "output_type": "stream",
     "text": [
      "[True, False, False, True, False]\n"
     ]
    }
   ],
   "source": [
    "# Without using lambdas\n",
    "def starts_with_A(s):\n",
    "    return s[0] == \"A\"\n",
    "\n",
    "fruit = [\"Apple\", \"Banana\", \"Pear\", \"Apricot\", \"Orange\"]\n",
    "map_object = map(starts_with_A, fruit)\n",
    "\n",
    "print(list(map_object))"
   ]
  },
  {
   "cell_type": "code",
   "execution_count": 2,
   "id": "7eed0476-b540-4610-8216-eb3d79f3f9ad",
   "metadata": {},
   "outputs": [
    {
     "name": "stdout",
     "output_type": "stream",
     "text": [
      "['Apple', 'Apricot']\n"
     ]
    }
   ],
   "source": [
    "# Without using lambdas\n",
    "def starts_with_A(s):\n",
    "    return s[0] == \"A\"\n",
    "\n",
    "fruit = [\"Apple\", \"Banana\", \"Pear\", \"Apricot\", \"Orange\"]\n",
    "filter_object = filter(starts_with_A, fruit)\n",
    "\n",
    "print(list(filter_object))"
   ]
  },
  {
   "cell_type": "code",
   "execution_count": null,
   "id": "049e574f-e4c4-456c-b80b-ebfb8628c76c",
   "metadata": {},
   "outputs": [],
   "source": []
  }
 ],
 "metadata": {
  "kernelspec": {
   "display_name": "Python 3",
   "language": "python",
   "name": "python3"
  },
  "language_info": {
   "codemirror_mode": {
    "name": "ipython",
    "version": 3
   },
   "file_extension": ".py",
   "mimetype": "text/x-python",
   "name": "python",
   "nbconvert_exporter": "python",
   "pygments_lexer": "ipython3",
   "version": "3.9.5"
  }
 },
 "nbformat": 4,
 "nbformat_minor": 5
}
