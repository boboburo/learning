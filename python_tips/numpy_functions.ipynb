{
 "cells": [
  {
   "cell_type": "code",
   "execution_count": 2,
   "id": "2971a0f3-6412-429e-a82a-f34a0e57c2f2",
   "metadata": {},
   "outputs": [],
   "source": [
    "import numpy as np"
   ]
  },
  {
   "cell_type": "code",
   "execution_count": 8,
   "id": "007d8223-54c5-4182-8f43-9395257f4462",
   "metadata": {},
   "outputs": [],
   "source": [
    "#vectors \n",
    "a=np.array([1,2,3])\n",
    "b=np.array([2,3,4])\n",
    "c=np.array([1,2,3])\n",
    "\n",
    "#2dvector\n",
    "aa=np.array([[1,2,3],[3,4,5]]) #(2,3)\n",
    "bb=np.array([[1,1],[2,2],[3,3]]) #(3,2)\n",
    "cc=np.array([[2,2,2],[3,3,3]]) #(2,3)\n",
    "\n",
    "#matrix\n",
    "A=np.mat([[1,2,3],[3,4,5]]) #(2,3)\n",
    "B=np.mat([[1,1],[2,2],[3,3]]) #(3,2)\n",
    "C=np.mat([[2,2,2],[3,3,3]]) #(2,3)\n",
    "D=[1,2,3]"
   ]
  },
  {
   "cell_type": "markdown",
   "id": "a6f4dc90-ead6-4d59-bac5-550947df3484",
   "metadata": {},
   "source": [
    "# Using * \n",
    "\n",
    "- elementwise multiplication for vectors.\n",
    "- matrix multiplication for matrices"
   ]
  },
  {
   "cell_type": "code",
   "execution_count": 15,
   "id": "595c4a5e-261a-4991-a082-1757f6d02a00",
   "metadata": {},
   "outputs": [
    {
     "data": {
      "text/plain": [
       "array([ 2,  6, 12])"
      ]
     },
     "execution_count": 15,
     "metadata": {},
     "output_type": "execute_result"
    }
   ],
   "source": [
    "a * b"
   ]
  },
  {
   "cell_type": "code",
   "execution_count": 16,
   "id": "d31e47cb-680b-4d71-b0e1-08389c7d8e81",
   "metadata": {},
   "outputs": [
    {
     "ename": "ValueError",
     "evalue": "operands could not be broadcast together with shapes (2,3) (3,2) ",
     "output_type": "error",
     "traceback": [
      "\u001b[0;31m---------------------------------------------------------------------------\u001b[0m",
      "\u001b[0;31mValueError\u001b[0m                                Traceback (most recent call last)",
      "\u001b[0;32m<ipython-input-16-66b90b296a8b>\u001b[0m in \u001b[0;36m<module>\u001b[0;34m\u001b[0m\n\u001b[0;32m----> 1\u001b[0;31m \u001b[0maa\u001b[0m \u001b[0;34m*\u001b[0m \u001b[0mbb\u001b[0m\u001b[0;34m\u001b[0m\u001b[0;34m\u001b[0m\u001b[0m\n\u001b[0m",
      "\u001b[0;31mValueError\u001b[0m: operands could not be broadcast together with shapes (2,3) (3,2) "
     ]
    }
   ],
   "source": [
    "aa * bb"
   ]
  },
  {
   "cell_type": "code",
   "execution_count": 18,
   "id": "c1da21e3-84ac-4a17-8d00-905e670bd2ae",
   "metadata": {},
   "outputs": [
    {
     "data": {
      "text/plain": [
       "array([[ 2,  4,  6],\n",
       "       [ 9, 12, 15]])"
      ]
     },
     "execution_count": 18,
     "metadata": {},
     "output_type": "execute_result"
    }
   ],
   "source": [
    "aa * cc"
   ]
  },
  {
   "cell_type": "code",
   "execution_count": 26,
   "id": "66d3c81e-36ad-4c10-98ac-b59fb01c492e",
   "metadata": {},
   "outputs": [
    {
     "data": {
      "text/plain": [
       "matrix([[14, 14],\n",
       "        [26, 26]])"
      ]
     },
     "execution_count": 26,
     "metadata": {},
     "output_type": "execute_result"
    }
   ],
   "source": [
    "A * B #same as dot "
   ]
  },
  {
   "cell_type": "markdown",
   "id": "5fbbda11-7a36-438d-baf3-900a7e891a19",
   "metadata": {},
   "source": [
    "# Using np.multiply \n",
    "\n"
   ]
  },
  {
   "cell_type": "code",
   "execution_count": 42,
   "id": "ffb9099f-cf5c-4a87-8185-46a166961c7e",
   "metadata": {},
   "outputs": [
    {
     "data": {
      "text/plain": [
       "array([ 2,  6, 12])"
      ]
     },
     "execution_count": 42,
     "metadata": {},
     "output_type": "execute_result"
    }
   ],
   "source": [
    "np.multiply(a,b) #same as *"
   ]
  },
  {
   "cell_type": "code",
   "execution_count": 47,
   "id": "0fcf337b-80e9-4203-92ee-d9e828dbe7f9",
   "metadata": {},
   "outputs": [
    {
     "data": {
      "text/plain": [
       "array([[ 2,  4,  6],\n",
       "       [ 9, 12, 15]])"
      ]
     },
     "execution_count": 47,
     "metadata": {},
     "output_type": "execute_result"
    }
   ],
   "source": [
    "np.multiply(aa,cc)"
   ]
  },
  {
   "cell_type": "code",
   "execution_count": 50,
   "id": "6eefc6de-57c1-4654-b736-4c50ac8f57cb",
   "metadata": {},
   "outputs": [
    {
     "ename": "ValueError",
     "evalue": "operands could not be broadcast together with shapes (2,3) (3,2) ",
     "output_type": "error",
     "traceback": [
      "\u001b[0;31m---------------------------------------------------------------------------\u001b[0m",
      "\u001b[0;31mValueError\u001b[0m                                Traceback (most recent call last)",
      "\u001b[0;32m<ipython-input-50-53549bd6e8c7>\u001b[0m in \u001b[0;36m<module>\u001b[0;34m\u001b[0m\n\u001b[0;32m----> 1\u001b[0;31m \u001b[0mnp\u001b[0m\u001b[0;34m.\u001b[0m\u001b[0mmultiply\u001b[0m\u001b[0;34m(\u001b[0m\u001b[0mA\u001b[0m\u001b[0;34m,\u001b[0m\u001b[0mB\u001b[0m\u001b[0;34m)\u001b[0m\u001b[0;34m\u001b[0m\u001b[0;34m\u001b[0m\u001b[0m\n\u001b[0m",
      "\u001b[0;31mValueError\u001b[0m: operands could not be broadcast together with shapes (2,3) (3,2) "
     ]
    }
   ],
   "source": [
    "np.multiply(A,B)"
   ]
  },
  {
   "cell_type": "code",
   "execution_count": 52,
   "id": "1dd0ccfc-2578-4e39-9d48-ca1ae59bd290",
   "metadata": {},
   "outputs": [
    {
     "data": {
      "text/plain": [
       "matrix([[ 2,  4,  6],\n",
       "        [ 9, 12, 15]])"
      ]
     },
     "execution_count": 52,
     "metadata": {},
     "output_type": "execute_result"
    }
   ],
   "source": [
    "np.multiply(A,C) #ew for matrix "
   ]
  },
  {
   "cell_type": "markdown",
   "id": "7dbeffa4-8731-49f9-810c-0d65534bc2a5",
   "metadata": {},
   "source": [
    "# Using np.dot\n",
    "\n",
    "- same as sum of ew multi for 1d vector\n",
    "- is matrix multiplication everywhere else. "
   ]
  },
  {
   "cell_type": "code",
   "execution_count": 39,
   "id": "3d498414-6b52-4584-99bc-5329e864e695",
   "metadata": {},
   "outputs": [
    {
     "data": {
      "text/plain": [
       "20"
      ]
     },
     "execution_count": 39,
     "metadata": {},
     "output_type": "execute_result"
    }
   ],
   "source": [
    "np.dot(a,b) "
   ]
  },
  {
   "cell_type": "code",
   "execution_count": 40,
   "id": "901da949-baf1-44e3-af25-cdfe9c3835db",
   "metadata": {},
   "outputs": [
    {
     "data": {
      "text/plain": [
       "array([[14, 14],\n",
       "       [26, 26]])"
      ]
     },
     "execution_count": 40,
     "metadata": {},
     "output_type": "execute_result"
    }
   ],
   "source": [
    "np.dot(aa,bb)"
   ]
  },
  {
   "cell_type": "code",
   "execution_count": 41,
   "id": "1920e70e-84c9-4fe7-b839-888c272c28db",
   "metadata": {},
   "outputs": [
    {
     "data": {
      "text/plain": [
       "matrix([[14, 14],\n",
       "        [26, 26]])"
      ]
     },
     "execution_count": 41,
     "metadata": {},
     "output_type": "execute_result"
    }
   ],
   "source": [
    "np.dot(A,B)"
   ]
  },
  {
   "cell_type": "markdown",
   "id": "be9c8ddc-b5c9-4c62-ada5-641f8470c1ef",
   "metadata": {},
   "source": [
    "# Using np.outer"
   ]
  },
  {
   "cell_type": "code",
   "execution_count": 59,
   "id": "e4b6b7c5-b465-4e78-959f-e648dc1fea62",
   "metadata": {},
   "outputs": [
    {
     "data": {
      "text/plain": [
       "array([1, 2, 3])"
      ]
     },
     "execution_count": 59,
     "metadata": {},
     "output_type": "execute_result"
    }
   ],
   "source": [
    "a"
   ]
  },
  {
   "cell_type": "code",
   "execution_count": 60,
   "id": "d6440493-1b19-4db8-a9f8-07d981b18f53",
   "metadata": {},
   "outputs": [
    {
     "data": {
      "text/plain": [
       "array([2, 3, 4])"
      ]
     },
     "execution_count": 60,
     "metadata": {},
     "output_type": "execute_result"
    }
   ],
   "source": [
    "b"
   ]
  },
  {
   "cell_type": "code",
   "execution_count": 61,
   "id": "28f25a36-1502-471b-9c7c-f3d9927787cd",
   "metadata": {},
   "outputs": [
    {
     "data": {
      "text/plain": [
       "array([1, 2, 3])"
      ]
     },
     "execution_count": 61,
     "metadata": {},
     "output_type": "execute_result"
    }
   ],
   "source": [
    "c"
   ]
  },
  {
   "cell_type": "code",
   "execution_count": 53,
   "id": "8c50c079-867a-4908-bcb0-c838875eb80f",
   "metadata": {},
   "outputs": [
    {
     "data": {
      "text/plain": [
       "array([[ 2,  3,  4],\n",
       "       [ 4,  6,  8],\n",
       "       [ 6,  9, 12]])"
      ]
     },
     "execution_count": 53,
     "metadata": {},
     "output_type": "execute_result"
    }
   ],
   "source": [
    "np.outer(a,b)"
   ]
  },
  {
   "cell_type": "code",
   "execution_count": 54,
   "id": "9cec6c32-d502-4ccc-a7c0-b8eeb3721469",
   "metadata": {},
   "outputs": [
    {
     "data": {
      "text/plain": [
       "array([[1, 2, 3],\n",
       "       [2, 4, 6],\n",
       "       [3, 6, 9]])"
      ]
     },
     "execution_count": 54,
     "metadata": {},
     "output_type": "execute_result"
    }
   ],
   "source": [
    "np.outer(a,c)"
   ]
  },
  {
   "cell_type": "code",
   "execution_count": 62,
   "id": "41bfa57c-bcfd-4d30-a880-8fb3ed7fb7eb",
   "metadata": {},
   "outputs": [
    {
     "data": {
      "text/plain": [
       "array([[1, 2, 3],\n",
       "       [3, 4, 5]])"
      ]
     },
     "execution_count": 62,
     "metadata": {},
     "output_type": "execute_result"
    }
   ],
   "source": [
    "aa"
   ]
  },
  {
   "cell_type": "code",
   "execution_count": 63,
   "id": "6027e872-abc5-4eac-9680-57d6d1a8317b",
   "metadata": {},
   "outputs": [
    {
     "data": {
      "text/plain": [
       "array([[1, 1],\n",
       "       [2, 2],\n",
       "       [3, 3]])"
      ]
     },
     "execution_count": 63,
     "metadata": {},
     "output_type": "execute_result"
    }
   ],
   "source": [
    "bb"
   ]
  },
  {
   "cell_type": "code",
   "execution_count": 56,
   "id": "19cc842b-06f8-4e1f-b533-1f154dda4e17",
   "metadata": {},
   "outputs": [
    {
     "data": {
      "text/plain": [
       "array([[ 1,  1,  2,  2,  3,  3],\n",
       "       [ 2,  2,  4,  4,  6,  6],\n",
       "       [ 3,  3,  6,  6,  9,  9],\n",
       "       [ 3,  3,  6,  6,  9,  9],\n",
       "       [ 4,  4,  8,  8, 12, 12],\n",
       "       [ 5,  5, 10, 10, 15, 15]])"
      ]
     },
     "execution_count": 56,
     "metadata": {},
     "output_type": "execute_result"
    }
   ],
   "source": [
    "np.outer(aa,bb)"
   ]
  },
  {
   "cell_type": "code",
   "execution_count": 57,
   "id": "c641d356-616d-46eb-b880-3f3e42d4825d",
   "metadata": {},
   "outputs": [
    {
     "data": {
      "text/plain": [
       "array([[ 2,  2,  2,  3,  3,  3],\n",
       "       [ 4,  4,  4,  6,  6,  6],\n",
       "       [ 6,  6,  6,  9,  9,  9],\n",
       "       [ 6,  6,  6,  9,  9,  9],\n",
       "       [ 8,  8,  8, 12, 12, 12],\n",
       "       [10, 10, 10, 15, 15, 15]])"
      ]
     },
     "execution_count": 57,
     "metadata": {},
     "output_type": "execute_result"
    }
   ],
   "source": [
    "np.outer(aa,cc)"
   ]
  },
  {
   "cell_type": "code",
   "execution_count": 58,
   "id": "74979406-fcff-48cf-ba15-980cff397792",
   "metadata": {},
   "outputs": [
    {
     "data": {
      "text/plain": [
       "array([[ 1,  1,  2,  2,  3,  3],\n",
       "       [ 2,  2,  4,  4,  6,  6],\n",
       "       [ 3,  3,  6,  6,  9,  9],\n",
       "       [ 3,  3,  6,  6,  9,  9],\n",
       "       [ 4,  4,  8,  8, 12, 12],\n",
       "       [ 5,  5, 10, 10, 15, 15]])"
      ]
     },
     "execution_count": 58,
     "metadata": {},
     "output_type": "execute_result"
    }
   ],
   "source": [
    "np.outer(A,B)"
   ]
  },
  {
   "cell_type": "markdown",
   "id": "462a4943-21c1-4702-8d0d-b43f4bb7972f",
   "metadata": {},
   "source": [
    "# Summary of Functions"
   ]
  },
  {
   "cell_type": "markdown",
   "id": "a93da6c2-2615-477f-b2d9-5abaa463db7d",
   "metadata": {},
   "source": [
    "|Function |1d |2d|matrix|\n",
    "|--- | --- | --- |---|\n",
    "|*|ew|ew, same shape| np.dot|\n",
    "|np.multiply|\"|\"|ew, same shape|\n",
    "|np.dot|sum(ew)|2d -> matrix, np.dot| dot mult|\n",
    "|np.outer|"
   ]
  },
  {
   "cell_type": "code",
   "execution_count": 4,
   "id": "a2204f94-cdd0-4688-8929-1459433c77d5",
   "metadata": {},
   "outputs": [
    {
     "name": "stdout",
     "output_type": "stream",
     "text": [
      "Here we will discuss some of the issues regarding the multiplication of one-dimensional array\n",
      "*:, [ 2  6 12] \n",
      "np.dot ():, 14\n",
      "np.multiply ():, [ 2  6 12]\n",
      "np.outer ():, [[ 2  3  4]\n",
      " [ 4  6  8]\n",
      " [ 6  9 12]]\n"
     ]
    }
   ],
   "source": [
    "print(f\"*:, {a * b} \") # multiplication is performed on the array element corresponding to the position\n",
    "print(f\"np.dot ():, {np.dot (a, a)}\") # 1 when a dot is encountered Yi, perform a bitwise multiplication and addition\n",
    "print(f\"np.multiply ():, {np.multiply (a, b)}\") # is performed by multiplying the array element corresponding to the position\n",
    "print(f\"np.outer ():, {np.outer (a, b)}\") # of an element A and B to the result of the multiplication of row\n",
    " "
   ]
  },
  {
   "cell_type": "code",
   "execution_count": null,
   "id": "bd005bb5-792f-4db4-902f-2790cfbea3f5",
   "metadata": {},
   "outputs": [],
   "source": [
    " print ( \"Here we will discuss some questions about multiplication and two-dimensional array of two-digit groups\")\n",
    "a=np.array([[1,2,3],[3,4,5]])\n",
    "b=np.array([[1,1],[2,2],[3,3]])\n",
    "c=np.array([[2,2,2],[3,3,3]])\n",
    " # Error: dimension does not correspond to: print ( \"*:\", a * b)\n",
    " print ( \"*:\", a * c) # * corresponding to the position is performed by multiplying array\n",
    " print ( \"np.dot ():\", np.dot (a, b)) # Yi encountered when the dot is not performing matrix multiplication of the (2,3) × (3,2) = (2,2)\n",
    " # Error, dimensions do not correspond: print ( \"np.multiply ():\", np.multiply (a, b))\n",
    " print ( \"np.multiply ():\", np.multiply (a, c)) # an array or a matrix corresponding to the position of the element together, returning the same size as the original matrix or array\n",
    " \n",
    " print ( \"Here we will discuss some of the issues regarding the multiplication of matrices\")\n",
    "A=np.mat([[1,2,3],[3,4,5]])\n",
    "B=np.mat([[1,1],[2,2],[3,3]])\n",
    "C=np.mat([[2,2,2],[3,3,3]])\n",
    "D=[1,2,3]\n",
    " print ( \"*:\", A * B) # * is a matrix performing matrix multiplication\n",
    " print ( \"np.dot ():\", np.dot (A, B)) # dot matrix multiplication is performed for the matrix\n",
    "print(\"np.dot():\",np.dot(A,D))\n",
    " Here it can be seen # matrix multiplication with the matrix and Yi is 2, it is performed by matrix multiplication, the matrices and vectors Yi are multiplied by 1, the corresponding multiplication performed additive\n",
    " print ( \"np.multiply ():\", np.multiply (A, C)) # multiply is performed by the corresponding element of the matrix multiplication"
   ]
  }
 ],
 "metadata": {
  "kernelspec": {
   "display_name": "Python 3",
   "language": "python",
   "name": "python3"
  },
  "language_info": {
   "codemirror_mode": {
    "name": "ipython",
    "version": 3
   },
   "file_extension": ".py",
   "mimetype": "text/x-python",
   "name": "python",
   "nbconvert_exporter": "python",
   "pygments_lexer": "ipython3",
   "version": "3.9.5"
  }
 },
 "nbformat": 4,
 "nbformat_minor": 5
}
