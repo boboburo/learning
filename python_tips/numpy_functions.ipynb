{
 "cells": [
  {
   "cell_type": "code",
   "execution_count": 2,
   "metadata": {},
   "outputs": [],
   "source": [
    "import numpy as np"
   ]
  },
  {
   "cell_type": "code",
   "execution_count": 3,
   "metadata": {},
   "outputs": [],
   "source": [
    "#vectors \n",
    "a=np.array([1,2,3])\n",
    "b=np.array([2,3,4])\n",
    "c=np.array([1,2,3])\n",
    "\n",
    "#2dvector\n",
    "aa=np.array([[1,2,3],[3,4,5]]) #(2,3)\n",
    "bb=np.array([[1,1],[2,2],[3,3]]) #(3,2)\n",
    "cc=np.array([[2,2,2],[3,3,3]]) #(2,3)\n",
    "\n",
    "#matrix\n",
    "A=np.mat([[1,2,3],[3,4,5]]) #(2,3)\n",
    "B=np.mat([[1,1],[2,2],[3,3]]) #(3,2)\n",
    "C=np.mat([[2,2,2],[3,3,3]]) #(2,3)\n",
    "D=[1,2,3]"
   ]
  },
  {
   "cell_type": "markdown",
   "metadata": {},
   "source": [
    "# Using * \n",
    "\n",
    "- elementwise multiplication for vectors.\n",
    "- matrix multiplication for matrices"
   ]
  },
  {
   "cell_type": "code",
   "execution_count": 4,
   "metadata": {},
   "outputs": [
    {
     "data": {
      "text/plain": "array([ 2,  6, 12])"
     },
     "execution_count": 4,
     "metadata": {},
     "output_type": "execute_result"
    }
   ],
   "source": [
    "a * b"
   ]
  },
  {
   "cell_type": "code",
   "execution_count": 5,
   "metadata": {},
   "outputs": [
    {
     "ename": "ValueError",
     "evalue": "operands could not be broadcast together with shapes (2,3) (3,2) ",
     "output_type": "error",
     "traceback": [
      "\u001b[0;31m---------------------------------------------------------------------------\u001b[0m",
      "\u001b[0;31mValueError\u001b[0m                                Traceback (most recent call last)",
      "\u001b[0;32m<ipython-input-5-66b90b296a8b>\u001b[0m in \u001b[0;36m<module>\u001b[0;34m\u001b[0m\n\u001b[0;32m----> 1\u001b[0;31m \u001b[0maa\u001b[0m \u001b[0;34m*\u001b[0m \u001b[0mbb\u001b[0m\u001b[0;34m\u001b[0m\u001b[0;34m\u001b[0m\u001b[0m\n\u001b[0m",
      "\u001b[0;31mValueError\u001b[0m: operands could not be broadcast together with shapes (2,3) (3,2) "
     ]
    }
   ],
   "source": [
    "aa * bb"
   ]
  },
  {
   "cell_type": "code",
   "execution_count": 6,
   "metadata": {},
   "outputs": [
    {
     "data": {
      "text/plain": "array([[ 2,  4,  6],\n       [ 9, 12, 15]])"
     },
     "execution_count": 6,
     "metadata": {},
     "output_type": "execute_result"
    }
   ],
   "source": [
    "aa * cc"
   ]
  },
  {
   "cell_type": "code",
   "execution_count": 7,
   "metadata": {},
   "outputs": [
    {
     "data": {
      "text/plain": "matrix([[14, 14],\n        [26, 26]])"
     },
     "execution_count": 7,
     "metadata": {},
     "output_type": "execute_result"
    }
   ],
   "source": [
    "A * B #same as dot "
   ]
  },
  {
   "cell_type": "markdown",
   "metadata": {},
   "source": [
    "# Using np.multiply \n",
    "\n"
   ]
  },
  {
   "cell_type": "code",
   "execution_count": 8,
   "metadata": {},
   "outputs": [
    {
     "data": {
      "text/plain": "array([ 2,  6, 12])"
     },
     "execution_count": 8,
     "metadata": {},
     "output_type": "execute_result"
    }
   ],
   "source": [
    "np.multiply(a,b) #same as *"
   ]
  },
  {
   "cell_type": "code",
   "execution_count": 9,
   "metadata": {},
   "outputs": [
    {
     "data": {
      "text/plain": "array([[ 2,  4,  6],\n       [ 9, 12, 15]])"
     },
     "execution_count": 9,
     "metadata": {},
     "output_type": "execute_result"
    }
   ],
   "source": [
    "np.multiply(aa,cc)"
   ]
  },
  {
   "cell_type": "code",
   "execution_count": 10,
   "metadata": {},
   "outputs": [
    {
     "ename": "ValueError",
     "evalue": "operands could not be broadcast together with shapes (2,3) (3,2) ",
     "output_type": "error",
     "traceback": [
      "\u001b[0;31m---------------------------------------------------------------------------\u001b[0m",
      "\u001b[0;31mValueError\u001b[0m                                Traceback (most recent call last)",
      "\u001b[0;32m<ipython-input-10-53549bd6e8c7>\u001b[0m in \u001b[0;36m<module>\u001b[0;34m\u001b[0m\n\u001b[0;32m----> 1\u001b[0;31m \u001b[0mnp\u001b[0m\u001b[0;34m.\u001b[0m\u001b[0mmultiply\u001b[0m\u001b[0;34m(\u001b[0m\u001b[0mA\u001b[0m\u001b[0;34m,\u001b[0m\u001b[0mB\u001b[0m\u001b[0;34m)\u001b[0m\u001b[0;34m\u001b[0m\u001b[0;34m\u001b[0m\u001b[0m\n\u001b[0m",
      "\u001b[0;31mValueError\u001b[0m: operands could not be broadcast together with shapes (2,3) (3,2) "
     ]
    }
   ],
   "source": [
    "np.multiply(A,B)"
   ]
  },
  {
   "cell_type": "code",
   "execution_count": 11,
   "metadata": {},
   "outputs": [
    {
     "data": {
      "text/plain": "matrix([[ 2,  4,  6],\n        [ 9, 12, 15]])"
     },
     "execution_count": 11,
     "metadata": {},
     "output_type": "execute_result"
    }
   ],
   "source": [
    "np.multiply(A,C) #ew for matrix "
   ]
  },
  {
   "cell_type": "markdown",
   "metadata": {},
   "source": [
    "# Using np.dot\n",
    "\n",
    "- same as sum of ew multi for 1d vector\n",
    "- is matrix multiplication everywhere else. "
   ]
  },
  {
   "cell_type": "code",
   "execution_count": 12,
   "metadata": {},
   "outputs": [
    {
     "data": {
      "text/plain": "20"
     },
     "execution_count": 12,
     "metadata": {},
     "output_type": "execute_result"
    }
   ],
   "source": [
    "np.dot(a,b) "
   ]
  },
  {
   "cell_type": "code",
   "execution_count": 13,
   "metadata": {},
   "outputs": [
    {
     "data": {
      "text/plain": "array([[14, 14],\n       [26, 26]])"
     },
     "execution_count": 13,
     "metadata": {},
     "output_type": "execute_result"
    }
   ],
   "source": [
    "np.dot(aa,bb)"
   ]
  },
  {
   "cell_type": "code",
   "execution_count": 14,
   "metadata": {},
   "outputs": [
    {
     "data": {
      "text/plain": "matrix([[14, 14],\n        [26, 26]])"
     },
     "execution_count": 14,
     "metadata": {},
     "output_type": "execute_result"
    }
   ],
   "source": [
    "np.dot(A,B)"
   ]
  },
  {
   "cell_type": "markdown",
   "metadata": {},
   "source": [
    "# Using np.outer"
   ]
  },
  {
   "cell_type": "code",
   "execution_count": 15,
   "metadata": {},
   "outputs": [
    {
     "data": {
      "text/plain": "array([1, 2, 3])"
     },
     "execution_count": 15,
     "metadata": {},
     "output_type": "execute_result"
    }
   ],
   "source": [
    "a"
   ]
  },
  {
   "cell_type": "code",
   "execution_count": 16,
   "metadata": {},
   "outputs": [
    {
     "data": {
      "text/plain": "array([2, 3, 4])"
     },
     "execution_count": 16,
     "metadata": {},
     "output_type": "execute_result"
    }
   ],
   "source": [
    "b"
   ]
  },
  {
   "cell_type": "code",
   "execution_count": 17,
   "metadata": {},
   "outputs": [
    {
     "data": {
      "text/plain": "array([1, 2, 3])"
     },
     "execution_count": 17,
     "metadata": {},
     "output_type": "execute_result"
    }
   ],
   "source": [
    "c"
   ]
  },
  {
   "cell_type": "code",
   "execution_count": 18,
   "metadata": {},
   "outputs": [
    {
     "data": {
      "text/plain": "array([[ 2,  3,  4],\n       [ 4,  6,  8],\n       [ 6,  9, 12]])"
     },
     "execution_count": 18,
     "metadata": {},
     "output_type": "execute_result"
    }
   ],
   "source": [
    "np.outer(a,b)"
   ]
  },
  {
   "cell_type": "code",
   "execution_count": 19,
   "metadata": {},
   "outputs": [
    {
     "data": {
      "text/plain": "array([[1, 2, 3],\n       [2, 4, 6],\n       [3, 6, 9]])"
     },
     "execution_count": 19,
     "metadata": {},
     "output_type": "execute_result"
    }
   ],
   "source": [
    "np.outer(a,c)"
   ]
  },
  {
   "cell_type": "code",
   "execution_count": 21,
   "metadata": {},
   "outputs": [
    {
     "data": {
      "text/plain": "array([[ 1,  1,  2,  2,  3,  3],\n       [ 2,  2,  4,  4,  6,  6],\n       [ 3,  3,  6,  6,  9,  9],\n       [ 3,  3,  6,  6,  9,  9],\n       [ 4,  4,  8,  8, 12, 12],\n       [ 5,  5, 10, 10, 15, 15]])"
     },
     "execution_count": 21,
     "metadata": {},
     "output_type": "execute_result"
    }
   ],
   "source": [
    "np.outer(aa,bb)"
   ]
  },
  {
   "cell_type": "code",
   "execution_count": 22,
   "metadata": {},
   "outputs": [
    {
     "data": {
      "text/plain": "array([[ 2,  2,  2,  3,  3,  3],\n       [ 4,  4,  4,  6,  6,  6],\n       [ 6,  6,  6,  9,  9,  9],\n       [ 6,  6,  6,  9,  9,  9],\n       [ 8,  8,  8, 12, 12, 12],\n       [10, 10, 10, 15, 15, 15]])"
     },
     "execution_count": 22,
     "metadata": {},
     "output_type": "execute_result"
    }
   ],
   "source": [
    "np.outer(aa,cc)"
   ]
  },
  {
   "cell_type": "code",
   "execution_count": 23,
   "metadata": {},
   "outputs": [
    {
     "data": {
      "text/plain": "array([[ 1,  1,  2,  2,  3,  3],\n       [ 2,  2,  4,  4,  6,  6],\n       [ 3,  3,  6,  6,  9,  9],\n       [ 3,  3,  6,  6,  9,  9],\n       [ 4,  4,  8,  8, 12, 12],\n       [ 5,  5, 10, 10, 15, 15]])"
     },
     "execution_count": 23,
     "metadata": {},
     "output_type": "execute_result"
    }
   ],
   "source": [
    "np.outer(A,B)"
   ]
  },
  {
   "cell_type": "markdown",
   "metadata": {},
   "source": [
    "# Summary of Functions"
   ]
  },
  {
   "cell_type": "markdown",
   "metadata": {},
   "source": [
    "|Function |1d |2d|matrix|\n",
    "|--- | --- | --- |---|\n",
    "|*|ew|ew, same shape| np.dot|\n",
    "|np.multiply|\"|\"|ew, same shape|\n",
    "|np.dot|sum(ew)|2d -> matrix, np.dot| dot mult|\n",
    "|np.outer|"
   ]
  },
  {
   "cell_type": "code",
   "execution_count": 24,
   "metadata": {},
   "outputs": [
    {
     "name": "stdout",
     "output_type": "stream",
     "text": [
      "*:, [ 2  6 12] \n",
      "np.dot ():, 14\n",
      "np.multiply ():, [ 2  6 12]\n",
      "np.outer ():, [[ 2  3  4]\n",
      " [ 4  6  8]\n",
      " [ 6  9 12]]\n"
     ]
    }
   ],
   "source": [
    "print(f\"*:, {a * b} \") # multiplication is performed on the array element corresponding to the position\n",
    "print(f\"np.dot ():, {np.dot (a, a)}\") # 1 when a dot is encountered Yi, perform a bitwise multiplication and addition\n",
    "print(f\"np.multiply ():, {np.multiply (a, b)}\") # is performed by multiplying the array element corresponding to the position\n",
    "print(f\"np.outer ():, {np.outer (a, b)}\") # of an element A and B to the result of the multiplication of row\n",
    " "
   ]
  },
  {
   "cell_type": "code",
   "execution_count": 27,
   "metadata": {},
   "outputs": [
    {
     "name": "stdout",
     "output_type": "stream",
     "text": [
      "Here we will discuss some questions about multiplication and two-dimensional array of two-digit groups\n",
      "*: [[ 2  4  6]\n",
      " [ 9 12 15]]\n",
      "np.dot (): [[14 14]\n",
      " [26 26]]\n",
      "np.multiply (): [[ 2  4  6]\n",
      " [ 9 12 15]]\n",
      "Here we will discuss some of the issues regarding the multiplication of matrices\n",
      "*: [[14 14]\n",
      " [26 26]]\n",
      "np.dot (): [[14 14]\n",
      " [26 26]]\n",
      "np.dot(): [[14 26]]\n",
      "np.multiply (): [[ 2  4  6]\n",
      " [ 9 12 15]]\n"
     ]
    }
   ],
   "source": [
    " print ( \"Here we will discuss some questions about multiplication and two-dimensional array of two-digit groups\")\n",
    "a=np.array([[1,2,3],[3,4,5]])\n",
    "b=np.array([[1,1],[2,2],[3,3]])\n",
    "c=np.array([[2,2,2],[3,3,3]])\n",
    " # Error: dimension does not correspond to: print ( \"*:\", a * b)\n",
    " print ( \"*:\", a * c) # * corresponding to the position is performed by multiplying array\n",
    " print ( \"np.dot ():\", np.dot (a, b)) # Yi encountered when the dot is not performing matrix multiplication of the (2,3) × (3,2) = (2,2)\n",
    " # Error, dimensions do not correspond: print ( \"np.multiply ():\", np.multiply (a, b))\n",
    " print ( \"np.multiply ():\", np.multiply (a, c)) # an array or a matrix corresponding to the position of the element together, returning the same size as the original matrix or array\n",
    " \n",
    " print ( \"Here we will discuss some of the issues regarding the multiplication of matrices\")\n",
    "A=np.mat([[1,2,3],[3,4,5]])\n",
    "B=np.mat([[1,1],[2,2],[3,3]])\n",
    "C=np.mat([[2,2,2],[3,3,3]])\n",
    "D=[1,2,3]\n",
    " print ( \"*:\", A * B) # * is a matrix performing matrix multiplication\n",
    " print ( \"np.dot ():\", np.dot (A, B)) # dot matrix multiplication is performed for the matrix\n",
    "print(\"np.dot():\",np.dot(A,D))\n",
    "#Here it can be seen # matrix multiplication with the matrix and Yi is 2, it is performed by matrix multiplication, the matrices and vectors Yi are multiplied by 1, the corresponding multiplication performed additive\n",
    " print ( \"np.multiply ():\", np.multiply (A, C)) # multiply is performed by the corresponding element of the matrix multiplication"
   ]
  },
  {
   "cell_type": "markdown",
   "metadata": {},
   "source": [
    "## np.linspace"
   ]
  },
  {
   "cell_type": "markdown",
   "metadata": {},
   "source": [
    "## np.meshgrib"
   ]
  },
  {
   "cell_type": "code",
   "execution_count": null,
   "metadata": {},
   "outputs": [],
   "source": []
  },
  {
   "cell_type": "markdown",
   "metadata": {},
   "source": []
  }
 ],
 "metadata": {
  "kernelspec": {
   "display_name": "Python 3.9.5 64-bit ('general_py39': conda)",
   "name": "python395jvsc74a57bd0618312e738ea7155d573afe3206ca552f6ad899181eda90a1289c9c80036ae97"
  },
  "language_info": {
   "codemirror_mode": {
    "name": "ipython",
    "version": 3
   },
   "file_extension": ".py",
   "mimetype": "text/x-python",
   "name": "python",
   "nbconvert_exporter": "python",
   "pygments_lexer": "ipython3",
   "version": "3.9.5"
  }
 },
 "nbformat": 4,
 "nbformat_minor": 5
}